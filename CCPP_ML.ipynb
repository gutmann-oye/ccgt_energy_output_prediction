{
 "cells": [
  {
   "cell_type": "markdown",
   "id": "5b81a62c",
   "metadata": {},
   "source": [
    "### Import Useful Libraries"
   ]
  },
  {
   "cell_type": "code",
   "execution_count": 1,
   "id": "95b3c533",
   "metadata": {},
   "outputs": [],
   "source": [
    "import numpy as np \n",
    "import pandas as pd\n",
    "import matplotlib.pyplot as plt\n",
    "import seaborn as sns\n",
    "from sklearn import preprocessing\n",
    "from sklearn.model_selection import train_test_split"
   ]
  },
  {
   "cell_type": "markdown",
   "id": "399464bc",
   "metadata": {},
   "source": [
    "### Import data and process it"
   ]
  },
  {
   "cell_type": "code",
   "execution_count": 2,
   "id": "902de306",
   "metadata": {},
   "outputs": [
    {
     "data": {
      "text/html": [
       "<div>\n",
       "<style scoped>\n",
       "    .dataframe tbody tr th:only-of-type {\n",
       "        vertical-align: middle;\n",
       "    }\n",
       "\n",
       "    .dataframe tbody tr th {\n",
       "        vertical-align: top;\n",
       "    }\n",
       "\n",
       "    .dataframe thead th {\n",
       "        text-align: right;\n",
       "    }\n",
       "</style>\n",
       "<table border=\"1\" class=\"dataframe\">\n",
       "  <thead>\n",
       "    <tr style=\"text-align: right;\">\n",
       "      <th></th>\n",
       "      <th>AT</th>\n",
       "      <th>V</th>\n",
       "      <th>AP</th>\n",
       "      <th>RH</th>\n",
       "      <th>PE</th>\n",
       "    </tr>\n",
       "  </thead>\n",
       "  <tbody>\n",
       "    <tr>\n",
       "      <th>0</th>\n",
       "      <td>14.96</td>\n",
       "      <td>41.76</td>\n",
       "      <td>1024.07</td>\n",
       "      <td>73.17</td>\n",
       "      <td>463.26</td>\n",
       "    </tr>\n",
       "    <tr>\n",
       "      <th>1</th>\n",
       "      <td>25.18</td>\n",
       "      <td>62.96</td>\n",
       "      <td>1020.04</td>\n",
       "      <td>59.08</td>\n",
       "      <td>444.37</td>\n",
       "    </tr>\n",
       "    <tr>\n",
       "      <th>2</th>\n",
       "      <td>5.11</td>\n",
       "      <td>39.4</td>\n",
       "      <td>1012.16</td>\n",
       "      <td>92.14</td>\n",
       "      <td>488.56</td>\n",
       "    </tr>\n",
       "    <tr>\n",
       "      <th>3</th>\n",
       "      <td>20.86</td>\n",
       "      <td>57.32</td>\n",
       "      <td>1010.24</td>\n",
       "      <td>76.64</td>\n",
       "      <td>446.48</td>\n",
       "    </tr>\n",
       "    <tr>\n",
       "      <th>4</th>\n",
       "      <td>10.82</td>\n",
       "      <td>37.5</td>\n",
       "      <td>1009.23</td>\n",
       "      <td>96.62</td>\n",
       "      <td>473.9</td>\n",
       "    </tr>\n",
       "    <tr>\n",
       "      <th>...</th>\n",
       "      <td>...</td>\n",
       "      <td>...</td>\n",
       "      <td>...</td>\n",
       "      <td>...</td>\n",
       "      <td>...</td>\n",
       "    </tr>\n",
       "    <tr>\n",
       "      <th>47839</th>\n",
       "      <td>15.12</td>\n",
       "      <td>48.92</td>\n",
       "      <td>1011.8</td>\n",
       "      <td>72.93</td>\n",
       "      <td>462.59</td>\n",
       "    </tr>\n",
       "    <tr>\n",
       "      <th>47840</th>\n",
       "      <td>33.41</td>\n",
       "      <td>77.95</td>\n",
       "      <td>1010.3</td>\n",
       "      <td>59.72</td>\n",
       "      <td>432.9</td>\n",
       "    </tr>\n",
       "    <tr>\n",
       "      <th>47841</th>\n",
       "      <td>15.99</td>\n",
       "      <td>43.34</td>\n",
       "      <td>1014.2</td>\n",
       "      <td>78.66</td>\n",
       "      <td>465.96</td>\n",
       "    </tr>\n",
       "    <tr>\n",
       "      <th>47842</th>\n",
       "      <td>17.65</td>\n",
       "      <td>59.87</td>\n",
       "      <td>1018.58</td>\n",
       "      <td>94.65</td>\n",
       "      <td>450.93</td>\n",
       "    </tr>\n",
       "    <tr>\n",
       "      <th>47843</th>\n",
       "      <td>23.68</td>\n",
       "      <td>51.3</td>\n",
       "      <td>1011.86</td>\n",
       "      <td>71.24</td>\n",
       "      <td>451.67</td>\n",
       "    </tr>\n",
       "  </tbody>\n",
       "</table>\n",
       "<p>47844 rows × 5 columns</p>\n",
       "</div>"
      ],
      "text/plain": [
       "          AT      V       AP     RH      PE\n",
       "0      14.96  41.76  1024.07  73.17  463.26\n",
       "1      25.18  62.96  1020.04  59.08  444.37\n",
       "2       5.11   39.4  1012.16  92.14  488.56\n",
       "3      20.86  57.32  1010.24  76.64  446.48\n",
       "4      10.82   37.5  1009.23  96.62   473.9\n",
       "...      ...    ...      ...    ...     ...\n",
       "47839  15.12  48.92   1011.8  72.93  462.59\n",
       "47840  33.41  77.95   1010.3  59.72   432.9\n",
       "47841  15.99  43.34   1014.2  78.66  465.96\n",
       "47842  17.65  59.87  1018.58  94.65  450.93\n",
       "47843  23.68   51.3  1011.86  71.24  451.67\n",
       "\n",
       "[47844 rows x 5 columns]"
      ]
     },
     "execution_count": 2,
     "metadata": {},
     "output_type": "execute_result"
    }
   ],
   "source": [
    "df= pd.read_csv(\"Folds5x2_pp.csv\")\n",
    "df"
   ]
  },
  {
   "cell_type": "code",
   "execution_count": 3,
   "id": "134bf922",
   "metadata": {},
   "outputs": [
    {
     "data": {
      "text/html": [
       "<div>\n",
       "<style scoped>\n",
       "    .dataframe tbody tr th:only-of-type {\n",
       "        vertical-align: middle;\n",
       "    }\n",
       "\n",
       "    .dataframe tbody tr th {\n",
       "        vertical-align: top;\n",
       "    }\n",
       "\n",
       "    .dataframe thead th {\n",
       "        text-align: right;\n",
       "    }\n",
       "</style>\n",
       "<table border=\"1\" class=\"dataframe\">\n",
       "  <thead>\n",
       "    <tr style=\"text-align: right;\">\n",
       "      <th></th>\n",
       "      <th>AT</th>\n",
       "      <th>V</th>\n",
       "      <th>AP</th>\n",
       "      <th>RH</th>\n",
       "      <th>PE</th>\n",
       "    </tr>\n",
       "  </thead>\n",
       "  <tbody>\n",
       "    <tr>\n",
       "      <th>count</th>\n",
       "      <td>47844</td>\n",
       "      <td>47844</td>\n",
       "      <td>47844</td>\n",
       "      <td>47844</td>\n",
       "      <td>47844</td>\n",
       "    </tr>\n",
       "    <tr>\n",
       "      <th>unique</th>\n",
       "      <td>2774</td>\n",
       "      <td>635</td>\n",
       "      <td>2518</td>\n",
       "      <td>4547</td>\n",
       "      <td>4837</td>\n",
       "    </tr>\n",
       "    <tr>\n",
       "      <th>top</th>\n",
       "      <td>25.21</td>\n",
       "      <td>41.17</td>\n",
       "      <td>1013.88</td>\n",
       "      <td>100.09</td>\n",
       "      <td>468.8</td>\n",
       "    </tr>\n",
       "    <tr>\n",
       "      <th>freq</th>\n",
       "      <td>70</td>\n",
       "      <td>305</td>\n",
       "      <td>80</td>\n",
       "      <td>130</td>\n",
       "      <td>45</td>\n",
       "    </tr>\n",
       "  </tbody>\n",
       "</table>\n",
       "</div>"
      ],
      "text/plain": [
       "           AT      V       AP      RH     PE\n",
       "count   47844  47844    47844   47844  47844\n",
       "unique   2774    635     2518    4547   4837\n",
       "top     25.21  41.17  1013.88  100.09  468.8\n",
       "freq       70    305       80     130     45"
      ]
     },
     "execution_count": 3,
     "metadata": {},
     "output_type": "execute_result"
    }
   ],
   "source": [
    "df.describe()"
   ]
  },
  {
   "cell_type": "code",
   "execution_count": 4,
   "id": "2ba9ea07",
   "metadata": {},
   "outputs": [
    {
     "name": "stdout",
     "output_type": "stream",
     "text": [
      "<class 'pandas.core.frame.DataFrame'>\n",
      "RangeIndex: 47844 entries, 0 to 47843\n",
      "Data columns (total 5 columns):\n",
      " #   Column  Non-Null Count  Dtype \n",
      "---  ------  --------------  ----- \n",
      " 0   AT      47844 non-null  object\n",
      " 1   V       47844 non-null  object\n",
      " 2   AP      47844 non-null  object\n",
      " 3   RH      47844 non-null  object\n",
      " 4   PE      47844 non-null  object\n",
      "dtypes: object(5)\n",
      "memory usage: 1.8+ MB\n"
     ]
    }
   ],
   "source": [
    "df.info()"
   ]
  },
  {
   "cell_type": "code",
   "execution_count": 5,
   "id": "4e6b2256",
   "metadata": {},
   "outputs": [
    {
     "data": {
      "image/png": "[encoded data removed]",
      "text/plain": [
       "<Figure size 720x360 with 2 Axes>"
      ]
     },
     "metadata": {
      "needs_background": "light"
     },
     "output_type": "display_data"
    }
   ],
   "source": [
    "df = df.apply(pd.to_numeric, errors='coerce')\n",
    "\n",
    "corr = df.corr()\n",
    "\n",
    "plt.figure(figsize=(10,5))\n",
    "sns.heatmap(corr, cmap=\"coolwarm\", center=0, annot=True)\n",
    "plt.show()"
   ]
  },
  {
   "cell_type": "code",
   "execution_count": 6,
   "id": "50cd616b",
   "metadata": {},
   "outputs": [],
   "source": [
    "df.dropna(inplace=True)\n",
    "\n",
    "X = df.iloc[:, :-1].values\n",
    "y = df.iloc[:, -1].values"
   ]
  },
  {
   "cell_type": "markdown",
   "id": "8e41c3b3",
   "metadata": {},
   "source": [
    "### Splitting the data into the Training and Test sets"
   ]
  },
  {
   "cell_type": "code",
   "execution_count": 7,
   "id": "d51416af",
   "metadata": {},
   "outputs": [],
   "source": [
    "X_train, X_test, y_train, y_test = train_test_split(X, y, test_size = 0.2, random_state = 123)"
   ]
  },
  {
   "cell_type": "markdown",
   "id": "5dd333ff",
   "metadata": {},
   "source": [
    "### Model Implementation using Random Forest Regression"
   ]
  },
  {
   "cell_type": "code",
   "execution_count": 8,
   "id": "7cff212c",
   "metadata": {},
   "outputs": [],
   "source": [
    "from sklearn.ensemble import RandomForestRegressor\n",
    "\n",
    "#Training the Model\n",
    "model = RandomForestRegressor(n_estimators = 10, random_state = 0)\n",
    "model.fit(X_train, y_train)\n",
    "y_train_pred = model.predict(X_train)"
   ]
  },
  {
   "cell_type": "code",
   "execution_count": 9,
   "id": "3d0ac093",
   "metadata": {},
   "outputs": [],
   "source": [
    "#Testing the Model\n",
    "y_pred = model.predict(X_test)"
   ]
  },
  {
   "cell_type": "markdown",
   "id": "7e3f018b",
   "metadata": {},
   "source": [
    "### Model Performance Evaluation"
   ]
  },
  {
   "cell_type": "code",
   "execution_count": 10,
   "id": "b73f05dd",
   "metadata": {},
   "outputs": [
    {
     "name": "stdout",
     "output_type": "stream",
     "text": [
      "The extent of accuracy of the train set is: 0.9997996509252572 \n",
      "The mean abs error of the train set is: 0.06458193979936963\n"
     ]
    }
   ],
   "source": [
    "from sklearn.metrics import r2_score, mean_absolute_error\n",
    "\n",
    "# Training performance\n",
    "accuracy_train = r2_score(y_train, y_train_pred)\n",
    "mae_train = mean_absolute_error(y_train, y_train_pred)\n",
    "\n",
    "print(f\"The extent of accuracy of the train set is: {accuracy_train} \\nThe mean abs error of the train set is: {mae_train}\")"
   ]
  },
  {
   "cell_type": "code",
   "execution_count": 11,
   "id": "ccdee068",
   "metadata": {},
   "outputs": [
    {
     "name": "stdout",
     "output_type": "stream",
     "text": [
      "The extent of accuracy of the train set is: 0.9993415438025305 \n",
      "The mean abs error of the train set is: 0.16447115384618397\n"
     ]
    }
   ],
   "source": [
    "# Testing performance\n",
    "accuracy_test = r2_score(y_test, y_pred)\n",
    "mae_test = mean_absolute_error(y_test, y_pred)\n",
    "\n",
    "print(f\"The extent of accuracy of the train set is: {accuracy_test} \\nThe mean abs error of the train set is: {mae_test}\")"
   ]
  },
  {
   "cell_type": "code",
   "execution_count": 12,
   "id": "080ac8fb",
   "metadata": {},
   "outputs": [
    {
     "name": "stdout",
     "output_type": "stream",
     "text": [
      "[447.96 439.4  482.26 ... 448.79 429.31 443.57]\n"
     ]
    }
   ],
   "source": [
    "print(y_test)"
   ]
  },
  {
   "cell_type": "code",
   "execution_count": 13,
   "id": "861b5d61",
   "metadata": {},
   "outputs": [
    {
     "name": "stdout",
     "output_type": "stream",
     "text": [
      "[[  22.86   62.52 1016.23   70.67]\n",
      " [  23.02   69.94 1007.94   64.66]\n",
      " [  10.2    40.67 1016.15   73.2 ]\n",
      " ...\n",
      " [  20.3    58.46 1015.93   82.13]\n",
      " [  32.38   69.05 1000.76   45.85]\n",
      " [  18.61   67.71 1004.07   84.49]]\n"
     ]
    }
   ],
   "source": [
    "print(X_test)"
   ]
  },
  {
   "cell_type": "markdown",
   "id": "48e81670",
   "metadata": {},
   "source": [
    "### Test with some input values"
   ]
  },
  {
   "cell_type": "code",
   "execution_count": 14,
   "id": "38d41de2",
   "metadata": {},
   "outputs": [
    {
     "name": "stdout",
     "output_type": "stream",
     "text": [
      "The predicted electrical energy output is: 447.33900000000006 MW\n"
     ]
    }
   ],
   "source": [
    "#Test with some values.\n",
    "temperture = 20.00          # °C\n",
    "exhaust_vacuum = 58.00      # %\n",
    "ambient_pressure = 1000.00  # in millibar\n",
    "relative_humidity = 82.00   # %\n",
    "\n",
    "# Predict electrical output power\n",
    "y_predîct = model.predict([[temperture, exhaust_vacuum, ambient_pressure, relative_humidity]])\n",
    "\n",
    "print(f\"The predicted electrical energy output is: {y_predîct[0]} MW\")"
   ]
  },
  {
   "cell_type": "code",
   "execution_count": null,
   "id": "856babc7",
   "metadata": {},
   "outputs": [],
   "source": []
  }
 ],
 "metadata": {
  "kernelspec": {
   "display_name": "Python 3",
   "language": "python",
   "name": "python3"
  },
  "language_info": {
   "codemirror_mode": {
    "name": "ipython",
    "version": 3
   },
   "file_extension": ".py",
   "mimetype": "text/x-python",
   "name": "python",
   "nbconvert_exporter": "python",
   "pygments_lexer": "ipython3",
   "version": "3.8.8"
  }
 },
 "nbformat": 4,
 "nbformat_minor": 5
}
